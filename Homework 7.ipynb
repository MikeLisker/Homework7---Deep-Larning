{
  "nbformat": 4,
  "nbformat_minor": 0,
  "metadata": {
    "colab": {
      "provenance": [],
      "gpuType": "T4"
    },
    "kernelspec": {
      "name": "python3",
      "display_name": "Python 3"
    },
    "language_info": {
      "name": "python"
    },
    "accelerator": "GPU"
  },
  "cells": [
    {
      "cell_type": "code",
      "source": [
        "#Traducto Ingles a Español\n",
        "#Alejandro Pardo/Michael lisker\n",
        "#INSTALACIONES NECESARIAS\n",
        "\n",
        "!pip install kagglehub --quiet\n",
        "\n",
        "# IMPORTACIONES\n",
        "import os\n",
        "import re\n",
        "import string\n",
        "import random\n",
        "import kagglehub\n",
        "import tensorflow as tf\n",
        "from tensorflow import keras\n",
        "from tensorflow.keras import layers\n",
        "from tensorflow.keras.layers import TextVectorization, MultiHeadAttention, Dense, LayerNormalization\n"
      ],
      "metadata": {
        "id": "8s7dRMWmUsb9"
      },
      "execution_count": 1,
      "outputs": []
    },
    {
      "cell_type": "code",
      "source": [
        "# DESCARGA DEL DATASET DESDE KAGGLEHUB\n",
        "path = kagglehub.dataset_download(\"tejasurya/eng-spanish\")\n",
        "print(\"Archivos disponibles:\", os.listdir(path))\n",
        "\n",
        "# LECTURA DEL ARCHIVO .txt\n",
        "archivo = os.path.join(path, \"spa.txt\")\n",
        "with open(archivo, encoding=\"utf-8\") as f:\n",
        "    ejemplos = f.read().split(\"\\n\")\n",
        "\n",
        "# PROCESAMIENTO DEL DATASET\n",
        "dataset = []\n",
        "for linea in ejemplos:\n",
        "    partes = linea.split(\"\\t\")\n",
        "    if len(partes) >= 2:\n",
        "        ingles = partes[0]\n",
        "        espanol = \"[start] \" + partes[1] + \" [end]\"\n",
        "        dataset.append((ingles, espanol))\n",
        "\n",
        "# DIVISIÓN DEL DATASET\n",
        "random.shuffle(dataset)\n",
        "val_split = int(0.15 * len(dataset))\n",
        "train_pairs = dataset[:-2 * val_split]\n",
        "val_pairs = dataset[-2 * val_split:-val_split]\n",
        "test_pairs = dataset[-val_split:]"
      ],
      "metadata": {
        "colab": {
          "base_uri": "https://localhost:8080/"
        },
        "id": "Cvm1F6VvUxpY",
        "outputId": "088c7bf6-f1fc-4403-f0d9-01c2708aac9c"
      },
      "execution_count": 2,
      "outputs": [
        {
          "output_type": "stream",
          "name": "stdout",
          "text": [
            "Archivos disponibles: ['spa-eng', 'spa.txt']\n"
          ]
        }
      ]
    },
    {
      "cell_type": "code",
      "source": [
        "# LIMPIEZA Y VECTORIZACIÓN\n",
        "caracteres_a_eliminar = string.punctuation + \"¿\"\n",
        "caracteres_a_eliminar = caracteres_a_eliminar.replace(\"[\", \"\").replace(\"]\", \"\")\n",
        "\n",
        "def estandarizacion(input_string):\n",
        "    lowercase = tf.strings.lower(input_string)\n",
        "    return tf.strings.regex_replace(lowercase, f\"[{re.escape(caracteres_a_eliminar)}]\", \"\")\n",
        "\n",
        "vocab_size = 15000\n",
        "sequence_length = 20\n",
        "\n",
        "vectorizacion_entrada = TextVectorization(\n",
        "    max_tokens=vocab_size,\n",
        "    output_mode=\"int\",\n",
        "    output_sequence_length=sequence_length,\n",
        ")\n",
        "\n",
        "vectorizacion_salida = TextVectorization(\n",
        "    max_tokens=vocab_size,\n",
        "    output_mode=\"int\",\n",
        "    output_sequence_length=sequence_length + 1,\n",
        "    standardize=estandarizacion,\n",
        ")\n",
        "\n",
        "# DATOS DE TEXTO\n",
        "train_entrada_texts = [pair[0] for pair in train_pairs]\n",
        "train_salida_texts = [pair[1] for pair in train_pairs]\n",
        "val_entrada_texts = [pair[0] for pair in val_pairs]\n",
        "val_salida_texts = [pair[1] for pair in val_pairs]\n",
        "\n",
        "# ADAPTACIÓN DE VECTORIZADORES\n",
        "vectorizacion_entrada.adapt(train_entrada_texts)\n",
        "vectorizacion_salida.adapt(train_salida_texts)\n"
      ],
      "metadata": {
        "id": "B7yD-cAgU5lT"
      },
      "execution_count": 3,
      "outputs": []
    },
    {
      "cell_type": "code",
      "source": [
        "# FUNCIONES PARA FORMATEAR LOS DATOS\n",
        "def formato(inputs, targets):\n",
        "    entrada = vectorizacion_entrada(inputs)\n",
        "    salida = vectorizacion_salida(targets)\n",
        "    return {\"entrada\": entrada, \"salida\": salida[:, :-1]}, salida[:, 1:]\n",
        "\n",
        "batch_size = 128\n",
        "\n",
        "train_ds = tf.data.Dataset.from_tensor_slices((train_entrada_texts, train_salida_texts))\n",
        "train_ds = train_ds.batch(batch_size).map(formato).prefetch(tf.data.AUTOTUNE)\n",
        "\n",
        "val_ds = tf.data.Dataset.from_tensor_slices((val_entrada_texts, val_salida_texts))\n",
        "val_ds = val_ds.batch(batch_size).map(formato).prefetch(tf.data.AUTOTUNE)\n",
        "\n",
        "# POSICIONAL EMBEDDING\n",
        "class PositionalEmbedding(layers.Layer):\n",
        "    def __init__(self, sequence_length, vocab_size, embed_dim, **kwargs):\n",
        "        super().__init__(**kwargs)\n",
        "        self.token_embeddings = layers.Embedding(input_dim=vocab_size, output_dim=embed_dim)\n",
        "        self.position_embeddings = layers.Embedding(input_dim=sequence_length, output_dim=embed_dim)\n",
        "        self.sequence_length = sequence_length\n",
        "        self.vocab_size = vocab_size\n",
        "        self.embed_dim = embed_dim\n",
        "\n",
        "    def call(self, inputs):\n",
        "        length = tf.shape(inputs)[-1]\n",
        "        positions = tf.range(start=0, limit=length, delta=1)\n",
        "        embedded_tokens = self.token_embeddings(inputs)\n",
        "        embedded_positions = self.position_embeddings(positions)\n",
        "        return embedded_tokens + embedded_positions\n",
        "\n",
        "    def get_config(self):\n",
        "        config = super().get_config()\n",
        "        config.update({\n",
        "            \"sequence_length\": self.sequence_length,\n",
        "            \"vocab_size\": self.vocab_size,\n",
        "            \"embed_dim\": self.embed_dim,\n",
        "        })\n",
        "        return config\n"
      ],
      "metadata": {
        "id": "3thCZ1qVU99Y"
      },
      "execution_count": 4,
      "outputs": []
    },
    {
      "cell_type": "code",
      "source": [
        "# ENCODER\n",
        "class TransformerEncoder(layers.Layer):\n",
        "    def __init__(self, embed_dim, dense_dim, num_heads, **kwargs):\n",
        "        super().__init__(**kwargs)\n",
        "        self.attention = MultiHeadAttention(num_heads=num_heads, key_dim=embed_dim)\n",
        "        self.dense_proj = keras.Sequential([\n",
        "            Dense(dense_dim, activation=\"relu\"),\n",
        "            Dense(embed_dim),\n",
        "        ])\n",
        "        self.layernorm_1 = LayerNormalization()\n",
        "        self.layernorm_2 = LayerNormalization()\n",
        "\n",
        "    def call(self, inputs, mask=None):\n",
        "        if mask is not None:\n",
        "            mask = mask[:, tf.newaxis, :]\n",
        "        attention_output = self.attention(inputs, inputs, attention_mask=mask)\n",
        "        proj_input = self.layernorm_1(inputs + attention_output)\n",
        "        proj_output = self.dense_proj(proj_input)\n",
        "        return self.layernorm_2(proj_input + proj_output)\n",
        "\n"
      ],
      "metadata": {
        "id": "0WuXHVKxVAjE"
      },
      "execution_count": 5,
      "outputs": []
    },
    {
      "cell_type": "code",
      "source": [
        "# DECODER\n",
        "class TransformerDecoder(layers.Layer):\n",
        "    def __init__(self, embed_dim, dense_dim, num_heads, **kwargs):\n",
        "        super().__init__(**kwargs)\n",
        "        self.attention_1 = MultiHeadAttention(num_heads=num_heads, key_dim=embed_dim)\n",
        "        self.attention_2 = MultiHeadAttention(num_heads=num_heads, key_dim=embed_dim)\n",
        "        self.dense_proj = keras.Sequential([\n",
        "            Dense(dense_dim, activation=\"relu\"),\n",
        "            Dense(embed_dim),\n",
        "        ])\n",
        "        self.layernorm_1 = LayerNormalization()\n",
        "        self.layernorm_2 = LayerNormalization()\n",
        "        self.layernorm_3 = LayerNormalization()\n",
        "        self.supports_masking = True\n",
        "\n",
        "    def get_causal_attention_mask(self, inputs):\n",
        "        input_shape = tf.shape(inputs)\n",
        "        batch_size, seq_length = input_shape[0], input_shape[1]\n",
        "        i = tf.range(seq_length)[:, tf.newaxis]\n",
        "        j = tf.range(seq_length)\n",
        "        mask = tf.cast(i >= j, dtype=\"int32\")\n",
        "        mask = tf.reshape(mask, (1, seq_length, seq_length))\n",
        "        mult = tf.concat([[batch_size], [1], [1]], axis=0)\n",
        "        return tf.tile(mask, mult)\n",
        "\n",
        "    def call(self, inputs, encoder_outputs, mask=None):\n",
        "        causal_mask = self.get_causal_attention_mask(inputs)\n",
        "        if mask is not None:\n",
        "            padding_mask = tf.cast(mask[:, tf.newaxis, :], dtype=\"int32\")\n",
        "            padding_mask = tf.minimum(padding_mask, causal_mask)\n",
        "        else:\n",
        "            padding_mask = mask\n",
        "\n",
        "        attention_output_1 = self.attention_1(inputs, inputs, inputs, attention_mask=causal_mask)\n",
        "        attention_output_1 = self.layernorm_1(inputs + attention_output_1)\n",
        "\n",
        "        attention_output_2 = self.attention_2(attention_output_1, encoder_outputs, encoder_outputs, attention_mask=padding_mask)\n",
        "        attention_output_2 = self.layernorm_2(attention_output_1 + attention_output_2)\n",
        "\n",
        "        proj_output = self.dense_proj(attention_output_2)\n",
        "        return self.layernorm_3(attention_output_2 + proj_output)\n"
      ],
      "metadata": {
        "id": "HHlN1SgSVD43"
      },
      "execution_count": 6,
      "outputs": []
    },
    {
      "cell_type": "code",
      "source": [
        "# CONSTRUCCIÓN DEL MODELO TRANSFORMER\n",
        "embed_dim = 128\n",
        "dense_dim = 512\n",
        "num_heads = 4\n",
        "\n",
        "encoder_inputs = keras.Input(shape=(None,), dtype=\"int64\", name=\"entrada\")\n",
        "x = PositionalEmbedding(sequence_length, vocab_size, embed_dim)(encoder_inputs)\n",
        "encoder_outputs = TransformerEncoder(embed_dim, dense_dim, num_heads)(x)\n",
        "\n",
        "decoder_inputs = keras.Input(shape=(None,), dtype=\"int64\", name=\"salida\")\n",
        "x = PositionalEmbedding(sequence_length, vocab_size, embed_dim)(decoder_inputs)\n",
        "x = TransformerDecoder(embed_dim, dense_dim, num_heads)(x, encoder_outputs)\n",
        "x = layers.Dropout(0.5)(x)\n",
        "decoder_outputs = layers.Dense(vocab_size, activation=\"softmax\")(x)\n",
        "\n",
        "transformer = keras.Model([encoder_inputs, decoder_inputs], decoder_outputs)\n"
      ],
      "metadata": {
        "id": "PyFI89KBVGQl"
      },
      "execution_count": 7,
      "outputs": []
    },
    {
      "cell_type": "code",
      "execution_count": null,
      "metadata": {
        "colab": {
          "base_uri": "https://localhost:8080/"
        },
        "id": "uncT4-CjCYjE",
        "outputId": "93f3093a-1db2-4f00-ba3a-43066bb6883d"
      },
      "outputs": [
        {
          "output_type": "stream",
          "name": "stdout",
          "text": [
            "Epoch 1/30\n",
            "\u001b[1m761/761\u001b[0m \u001b[32m━━━━━━━━━━━━━━━━━━━━\u001b[0m\u001b[37m\u001b[0m \u001b[1m75s\u001b[0m 67ms/step - accuracy: 0.6982 - loss: 2.8994 - val_accuracy: 0.7648 - val_loss: 1.4906\n",
            "Epoch 2/30\n",
            "\u001b[1m761/761\u001b[0m \u001b[32m━━━━━━━━━━━━━━━━━━━━\u001b[0m\u001b[37m\u001b[0m \u001b[1m35s\u001b[0m 46ms/step - accuracy: 0.7787 - loss: 1.4379 - val_accuracy: 0.8215 - val_loss: 1.0963\n",
            "Epoch 3/30\n",
            "\u001b[1m761/761\u001b[0m \u001b[32m━━━━━━━━━━━━━━━━━━━━\u001b[0m\u001b[37m\u001b[0m \u001b[1m35s\u001b[0m 45ms/step - accuracy: 0.8265 - loss: 1.0959 - val_accuracy: 0.8491 - val_loss: 0.9082\n",
            "Epoch 4/30\n",
            "\u001b[1m761/761\u001b[0m \u001b[32m━━━━━━━━━━━━━━━━━━━━\u001b[0m\u001b[37m\u001b[0m \u001b[1m34s\u001b[0m 44ms/step - accuracy: 0.8494 - loss: 0.9274 - val_accuracy: 0.8585 - val_loss: 0.8366\n",
            "Epoch 5/30\n",
            "\u001b[1m761/761\u001b[0m \u001b[32m━━━━━━━━━━━━━━━━━━━━\u001b[0m\u001b[37m\u001b[0m \u001b[1m41s\u001b[0m 44ms/step - accuracy: 0.8620 - loss: 0.8290 - val_accuracy: 0.8674 - val_loss: 0.7773\n",
            "Epoch 6/30\n",
            "\u001b[1m761/761\u001b[0m \u001b[32m━━━━━━━━━━━━━━━━━━━━\u001b[0m\u001b[37m\u001b[0m \u001b[1m33s\u001b[0m 44ms/step - accuracy: 0.8710 - loss: 0.7625 - val_accuracy: 0.8719 - val_loss: 0.7375\n",
            "Epoch 7/30\n",
            "\u001b[1m761/761\u001b[0m \u001b[32m━━━━━━━━━━━━━━━━━━━━\u001b[0m\u001b[37m\u001b[0m \u001b[1m35s\u001b[0m 46ms/step - accuracy: 0.8771 - loss: 0.7168 - val_accuracy: 0.8740 - val_loss: 0.7358\n",
            "Epoch 8/30\n",
            "\u001b[1m761/761\u001b[0m \u001b[32m━━━━━━━━━━━━━━━━━━━━\u001b[0m\u001b[37m\u001b[0m \u001b[1m36s\u001b[0m 47ms/step - accuracy: 0.8824 - loss: 0.6811 - val_accuracy: 0.8750 - val_loss: 0.7212\n",
            "Epoch 9/30\n",
            "\u001b[1m761/761\u001b[0m \u001b[32m━━━━━━━━━━━━━━━━━━━━\u001b[0m\u001b[37m\u001b[0m \u001b[1m36s\u001b[0m 47ms/step - accuracy: 0.8862 - loss: 0.6539 - val_accuracy: 0.8788 - val_loss: 0.6990\n",
            "Epoch 10/30\n",
            "\u001b[1m761/761\u001b[0m \u001b[32m━━━━━━━━━━━━━━━━━━━━\u001b[0m\u001b[37m\u001b[0m \u001b[1m35s\u001b[0m 46ms/step - accuracy: 0.8897 - loss: 0.6341 - val_accuracy: 0.8765 - val_loss: 0.7110\n",
            "Epoch 11/30\n",
            "\u001b[1m761/761\u001b[0m \u001b[32m━━━━━━━━━━━━━━━━━━━━\u001b[0m\u001b[37m\u001b[0m \u001b[1m35s\u001b[0m 46ms/step - accuracy: 0.8924 - loss: 0.6163 - val_accuracy: 0.8771 - val_loss: 0.7084\n",
            "Epoch 12/30\n",
            "\u001b[1m761/761\u001b[0m \u001b[32m━━━━━━━━━━━━━━━━━━━━\u001b[0m\u001b[37m\u001b[0m \u001b[1m35s\u001b[0m 46ms/step - accuracy: 0.8945 - loss: 0.6038 - val_accuracy: 0.8791 - val_loss: 0.7094\n",
            "Epoch 13/30\n",
            "\u001b[1m761/761\u001b[0m \u001b[32m━━━━━━━━━━━━━━━━━━━━\u001b[0m\u001b[37m\u001b[0m \u001b[1m36s\u001b[0m 47ms/step - accuracy: 0.8968 - loss: 0.5921 - val_accuracy: 0.8796 - val_loss: 0.7132\n",
            "Epoch 14/30\n",
            "\u001b[1m761/761\u001b[0m \u001b[32m━━━━━━━━━━━━━━━━━━━━\u001b[0m\u001b[37m\u001b[0m \u001b[1m35s\u001b[0m 46ms/step - accuracy: 0.8984 - loss: 0.5833 - val_accuracy: 0.8782 - val_loss: 0.7202\n",
            "Epoch 15/30\n",
            "\u001b[1m761/761\u001b[0m \u001b[32m━━━━━━━━━━━━━━━━━━━━\u001b[0m\u001b[37m\u001b[0m \u001b[1m35s\u001b[0m 46ms/step - accuracy: 0.9001 - loss: 0.5754 - val_accuracy: 0.8819 - val_loss: 0.7138\n",
            "Epoch 16/30\n",
            "\u001b[1m761/761\u001b[0m \u001b[32m━━━━━━━━━━━━━━━━━━━━\u001b[0m\u001b[37m\u001b[0m \u001b[1m35s\u001b[0m 46ms/step - accuracy: 0.9016 - loss: 0.5694 - val_accuracy: 0.8815 - val_loss: 0.7134\n",
            "Epoch 17/30\n",
            "\u001b[1m761/761\u001b[0m \u001b[32m━━━━━━━━━━━━━━━━━━━━\u001b[0m\u001b[37m\u001b[0m \u001b[1m35s\u001b[0m 46ms/step - accuracy: 0.9027 - loss: 0.5628 - val_accuracy: 0.8811 - val_loss: 0.7160\n",
            "Epoch 18/30\n",
            "\u001b[1m761/761\u001b[0m \u001b[32m━━━━━━━━━━━━━━━━━━━━\u001b[0m\u001b[37m\u001b[0m \u001b[1m35s\u001b[0m 46ms/step - accuracy: 0.9038 - loss: 0.5581 - val_accuracy: 0.8804 - val_loss: 0.7328\n",
            "Epoch 19/30\n",
            "\u001b[1m761/761\u001b[0m \u001b[32m━━━━━━━━━━━━━━━━━━━━\u001b[0m\u001b[37m\u001b[0m \u001b[1m35s\u001b[0m 46ms/step - accuracy: 0.9051 - loss: 0.5525 - val_accuracy: 0.8811 - val_loss: 0.7314\n",
            "Epoch 20/30\n",
            "\u001b[1m761/761\u001b[0m \u001b[32m━━━━━━━━━━━━━━━━━━━━\u001b[0m\u001b[37m\u001b[0m \u001b[1m36s\u001b[0m 47ms/step - accuracy: 0.9061 - loss: 0.5484 - val_accuracy: 0.8809 - val_loss: 0.7423\n",
            "Epoch 21/30\n",
            "\u001b[1m761/761\u001b[0m \u001b[32m━━━━━━━━━━━━━━━━━━━━\u001b[0m\u001b[37m\u001b[0m \u001b[1m35s\u001b[0m 46ms/step - accuracy: 0.9069 - loss: 0.5455 - val_accuracy: 0.8807 - val_loss: 0.7490\n",
            "Epoch 22/30\n",
            "\u001b[1m449/761\u001b[0m \u001b[32m━━━━━━━━━━━\u001b[0m\u001b[37m━━━━━━━━━\u001b[0m \u001b[1m13s\u001b[0m 43ms/step - accuracy: 0.9078 - loss: 0.5403"
          ]
        }
      ],
      "source": [
        "# COMPILACIÓN Y ENTRENAMIENTO\n",
        "transformer.compile(optimizer=\"rmsprop\",\n",
        "                    loss=\"sparse_categorical_crossentropy\",\n",
        "                    metrics=[\"accuracy\"])  # Solo se usa 'accuracy'\n",
        "\n",
        "transformer.fit(train_ds,\n",
        "                epochs=30,\n",
        "                validation_data=val_ds,\n",
        "                validation_freq=1)  # La precisión de validación se mostrará automáticamente\n",
        "\n"
      ]
    },
    {
      "cell_type": "code",
      "source": [
        "# CELDA PARA TRADUCIR UNA PALABRA INGRESADA\n",
        "\n",
        "# Función para traducir una palabra en inglés al español\n",
        "def traducir_palabra(entrada_texto):\n",
        "    # Preprocesar la entrada (vectorizarla)\n",
        "    entrada_vectorizada = vectorizacion_entrada([entrada_texto])\n",
        "\n",
        "    # Iniciar la secuencia de salida con el token [start]\n",
        "    decoder_input = tf.constant([[vectorizacion_salida.vocabulary_size() - 2]])  # [start] token\n",
        "\n",
        "    # Generar la traducción palabra por palabra\n",
        "    traduccion = []\n",
        "    for _ in range(sequence_length):  # Limitar la longitud de la traducción\n",
        "        # Hacer la predicción\n",
        "        prediccion = transformer.predict([entrada_vectorizada, decoder_input])\n",
        "\n",
        "        # Obtener la siguiente palabra (con el índice con mayor probabilidad)\n",
        "        prediccion_idx = tf.argmax(prediccion[0], axis=-1)[-1].numpy()\n",
        "\n",
        "        # Convertir el índice en palabra\n",
        "        palabra_predicha = vectorizacion_salida.get_vocabulary()[prediccion_idx]\n",
        "\n",
        "        # Si la predicción es el token [end], terminamos\n",
        "        if palabra_predicha == \"[end]\":\n",
        "            break\n",
        "\n",
        "        # Añadir la palabra predicha a la traducción\n",
        "        traduccion.append(palabra_predicha)\n",
        "\n",
        "        # Actualizar la entrada del decoder con la palabra predicha\n",
        "        decoder_input = tf.concat([decoder_input, tf.constant([[prediccion_idx]])], axis=-1)\n",
        "\n",
        "    # Unir las palabras en una cadena\n",
        "    return \" \".join(traduccion)\n",
        "\n",
        "# Interfaz de entrada de la palabra a traducir\n",
        "entrada_usuario = input(\"Introduce una palabra o frase en inglés para traducir: \")\n",
        "\n",
        "# Traducir y mostrar la traducción\n",
        "traduccion = traducir_palabra(entrada_usuario)\n",
        "print(f\"Traducción al español: {traduccion}\")\n"
      ],
      "metadata": {
        "id": "cpLvBbVYKwvU"
      },
      "execution_count": null,
      "outputs": []
    }
  ]
}